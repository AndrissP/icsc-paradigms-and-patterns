{
 "cells": [
  {
   "cell_type": "markdown",
   "metadata": {},
   "source": [
    "# Software Design Patterns"
   ]
  },
  {
   "cell_type": "code",
   "execution_count": null,
   "metadata": {
    "ExecuteTime": {
     "end_time": "2020-09-27T16:35:44.337127Z",
     "start_time": "2020-09-27T16:35:44.328946Z"
    }
   },
   "outputs": [],
   "source": [
    "import matplotlib.pyplot as plt\n",
    "from abc import ABC, abstractmethod"
   ]
  },
  {
   "cell_type": "markdown",
   "metadata": {},
   "source": [
    "If the last line didn't work, please install matplotlib, e.g. by\n",
    "typing ``pip3 install --user install matplotlib``."
   ]
  },
  {
   "cell_type": "markdown",
   "metadata": {},
   "source": [
    "# Creational patterns"
   ]
  },
  {
   "cell_type": "markdown",
   "metadata": {
    "heading_collapsed": true
   },
   "source": [
    "## Builder pattern"
   ]
  },
  {
   "cell_type": "markdown",
   "metadata": {
    "hidden": true
   },
   "source": [
    "Let's look at the following example of a class for plotting (you can run the next two cells to get an idea about what it does)."
   ]
  },
  {
   "cell_type": "code",
   "execution_count": null,
   "metadata": {
    "ExecuteTime": {
     "end_time": "2020-09-27T16:23:31.806437Z",
     "start_time": "2020-09-27T16:23:31.755189Z"
    },
    "hidden": true
   },
   "outputs": [],
   "source": [
    "class ComplexPlot(object):\n",
    "    def __init__(self, xvalues, yvalues, colors, labels, hlines, vlines, hlinecolors, vlinecolors):\n",
    "        self.xvalues = xvalues\n",
    "        self.yvalues = yvalues\n",
    "        self.colors = colors\n",
    "        self.labels = labels\n",
    "        self.hlines = hlines\n",
    "        self.vlines = vlines\n",
    "        self.hlinecolors = hlinecolors\n",
    "        self.vlinecolors = vlinecolors\n",
    "    \n",
    "    def plot(self):\n",
    "        fig, ax = plt.subplots()\n",
    "        for i in range(len(self.xvalues)):\n",
    "            ax.plot(self.xvalues[i], self.yvalues[i], color=self.colors[i], label=self.labels[i])\n",
    "        for i in range(len(self.hlines)):\n",
    "            ax.axhline(self.hlines[i], color=self.hlinecolors[i])\n",
    "        for i in range(len(self.vlines)):\n",
    "            ax.axvline(self.vlines[i], color=self.vlinecolors[i])\n",
    "        ax.legend()\n",
    "        return ax"
   ]
  },
  {
   "cell_type": "code",
   "execution_count": null,
   "metadata": {
    "ExecuteTime": {
     "end_time": "2020-09-27T16:24:04.925552Z",
     "start_time": "2020-09-27T16:24:04.656293Z"
    },
    "hidden": true
   },
   "outputs": [],
   "source": [
    "c = ComplexPlot(\n",
    "    xvalues=[[1, 2, 3], [1, 2, 3]],\n",
    "    yvalues=[[1, 2, 3], [4, 5, 6]],\n",
    "    colors=[\"black\", \"red\"],\n",
    "    labels=[\"label 1\", \"label 2\"],\n",
    "    hlines=[1],\n",
    "    vlines=[2],\n",
    "    hlinecolors=[\"yellow\"],\n",
    "    vlinecolors=[\"gray\"]\n",
    ")\n",
    "c.plot()"
   ]
  },
  {
   "cell_type": "markdown",
   "metadata": {
    "ExecuteTime": {
     "end_time": "2020-09-27T16:25:45.440750Z",
     "start_time": "2020-09-27T16:25:45.428730Z"
    },
    "hidden": true
   },
   "source": [
    "**Exercise**: \n",
    "\n",
    "1. Make use of the *builder pattern* to simplify the above class and to make it more flexible. \n",
    "2. Reproduce the plot with your new class"
   ]
  },
  {
   "cell_type": "markdown",
   "metadata": {
    "ExecuteTime": {
     "end_time": "2020-09-27T16:30:21.591750Z",
     "start_time": "2020-09-27T16:30:21.530636Z"
    },
    "hidden": true
   },
   "source": [
    "<html>\n",
    "<details>\n",
    "<summary style=\"color:red; font-weight: bold;\"> Click me for the solution </summary>\n",
    " \n",
    "```python\n",
    "class ComplexPlot(object):\n",
    "    def __init__(self):\n",
    "        self.xvalues = []\n",
    "        self.yvalues = []\n",
    "        self.colors = []\n",
    "        self.labels = []\n",
    "        self.hlines = []\n",
    "        self.vlines = []\n",
    "        self.hlinecolors = []\n",
    "        self.vlinecolors = []\n",
    "    \n",
    "    def add_dataset(self, x, y, color=\"black\", label=\"\"):\n",
    "        self.xvalues.append(x)\n",
    "        self.yvalues.append(y)\n",
    "        self.colors.append(color)\n",
    "        self.labels.append(label)\n",
    "    \n",
    "    def add_hline(self, y, color=\"black\"):\n",
    "        self.hlines.append(y)\n",
    "        self.hlinecolors.append(color)\n",
    "    \n",
    "    def add_vline(self, y, color=\"black\"):\n",
    "        self.hlines.append(y)\n",
    "        self.hlinecolors.append(color)\n",
    "    \n",
    "    def plot(self):\n",
    "        fig, ax = plt.subplots()\n",
    "        for i in range(len(self.xvalues)):\n",
    "            ax.plot(self.xvalues[i], self.yvalues[i], color=self.colors[i], label=self.labels[i])\n",
    "        for i in range(len(self.hlines)):\n",
    "            ax.axhline(self.hlines[i], color=self.hlinecolors[i])\n",
    "        for i in range(len(self.vlines)):\n",
    "            ax.axvline(self.vlines[i], color=self.vlinecolors[i])\n",
    "        ax.legend()\n",
    "        return ax\n",
    "\n",
    "c = ComplexPlot()\n",
    "c.add_dataset([1, 2, 3], [1, 2, 3], label=\"label 1\")\n",
    "c.add_dataset([1, 2, 3], [4, 5, 6], color=\"red\", label=\"label 2\")\n",
    "c.add_hline(1, color=\"yellow\")\n",
    "c.add_vline(2, color=\"gray\")\n",
    "c.plot()\n",
    "```\n",
    "    \n",
    "</details>\n",
    "</html>"
   ]
  },
  {
   "cell_type": "markdown",
   "metadata": {},
   "source": [
    "# Structural patterns"
   ]
  },
  {
   "cell_type": "markdown",
   "metadata": {},
   "source": [
    "## Adapter"
   ]
  },
  {
   "cell_type": "markdown",
   "metadata": {},
   "source": [
    "You have a nice setup for dealing with lamps:"
   ]
  },
  {
   "cell_type": "code",
   "execution_count": null,
   "metadata": {
    "ExecuteTime": {
     "end_time": "2020-09-27T16:43:15.942366Z",
     "start_time": "2020-09-27T16:43:15.924067Z"
    }
   },
   "outputs": [],
   "source": [
    "class Lamp(ABC):\n",
    "    \"\"\" Interface of my lamps. \"\"\"\n",
    "    @abstractmethod\n",
    "    def toggle(self):\n",
    "        pass\n",
    "\n",
    "class MyOldLamp(Lamp):\n",
    "    \"\"\" This is one of my specific lamps. \"\"\"\n",
    "    def __init__(self):\n",
    "        self._turned_on = False\n",
    "    \n",
    "    def get_state(self):\n",
    "        # (Note for advanced python users: \n",
    "        # Accessor function because lecture didn't introduce\n",
    "        # the '@property' decorator)\n",
    "        return self._turned_on\n",
    "    \n",
    "    def toggle(self):\n",
    "        self._turned_on = not self._turned_on\n",
    "\n",
    "\n",
    "def report_and_switch_on_lamp(lamp: Lamp):\n",
    "    \"\"\" This function prints whether the lamp is lit\n",
    "    and if not, flips the switch. \"\"\"\n",
    "    if lamp.get_state():\n",
    "        print(\"Lamp is lit\")\n",
    "    else:\n",
    "        print(\"Lamp is dark\")\n",
    "    lamp.toggle()"
   ]
  },
  {
   "cell_type": "markdown",
   "metadata": {},
   "source": [
    "Let's try it!"
   ]
  },
  {
   "cell_type": "code",
   "execution_count": null,
   "metadata": {
    "ExecuteTime": {
     "end_time": "2020-09-27T16:42:17.948020Z",
     "start_time": "2020-09-27T16:42:17.938499Z"
    }
   },
   "outputs": [],
   "source": [
    "mol = MyOldLamp()\n",
    "\n",
    "report_and_switch_on_lamp(mol)\n",
    "report_and_switch_on_lamp(mol)"
   ]
  },
  {
   "cell_type": "markdown",
   "metadata": {},
   "source": [
    "Let's try with a new lamp:"
   ]
  },
  {
   "cell_type": "code",
   "execution_count": null,
   "metadata": {
    "ExecuteTime": {
     "end_time": "2020-09-27T16:43:29.099310Z",
     "start_time": "2020-09-27T16:43:29.081037Z"
    }
   },
   "outputs": [],
   "source": [
    "class MyNewLamp():\n",
    "    def __init__(self):\n",
    "        self.turned_on = False\n",
    "    \n",
    "    def get_state(self):\n",
    "        return self.turned_on\n",
    "    \n",
    "    def flip_switch(self):\n",
    "        self.turned_on = not self.turned_on"
   ]
  },
  {
   "cell_type": "code",
   "execution_count": null,
   "metadata": {
    "ExecuteTime": {
     "end_time": "2020-09-27T16:44:25.968814Z",
     "start_time": "2020-09-27T16:44:25.948987Z"
    }
   },
   "outputs": [],
   "source": [
    "mnl = MyNewLamp()\n",
    "report_and_switch_on_lamp(mnl)\n",
    "report_and_switch_on_lamp(mnl)  # Ooouch"
   ]
  },
  {
   "cell_type": "markdown",
   "metadata": {},
   "source": [
    "That didn't work!"
   ]
  },
  {
   "cell_type": "markdown",
   "metadata": {},
   "source": [
    "**Exercise**: Create an adapter class for ``MyNewLamp``"
   ]
  },
  {
   "cell_type": "markdown",
   "metadata": {
    "ExecuteTime": {
     "end_time": "2020-09-27T16:43:59.438902Z",
     "start_time": "2020-09-27T16:43:59.407197Z"
    }
   },
   "source": [
    "<html>\n",
    "<details>\n",
    "<summary style=\"color:red; font-weight: bold;\"> Click me for the solution </summary>\n",
    " \n",
    "```python\n",
    "class MyNewLampAdapter(Lamp):\n",
    "    def __init__(self, lamp: MyNewLamp):\n",
    "        self._lamp = lamp\n",
    "    \n",
    "    def get_state(self):\n",
    "        return self._lamp.get_state()\n",
    "    \n",
    "    def toggle(self):\n",
    "        self._lamp.flip_switch()\n",
    "\n",
    "mnl = MyNewLampAdapter(MyNewLamp())\n",
    "report_and_switch_on_lamp(mnl)\n",
    "report_and_switch_on_lamp(mnl)\n",
    "```\n",
    "    \n",
    "</details>\n",
    "</html>"
   ]
  }
 ],
 "metadata": {
  "kernelspec": {
   "display_name": "Python 3",
   "language": "python",
   "name": "python3"
  },
  "language_info": {
   "codemirror_mode": {
    "name": "ipython",
    "version": 3
   },
   "file_extension": ".py",
   "mimetype": "text/x-python",
   "name": "python",
   "nbconvert_exporter": "python",
   "pygments_lexer": "ipython3",
   "version": "3.7.5"
  },
  "toc": {
   "base_numbering": 1,
   "nav_menu": {},
   "number_sections": true,
   "sideBar": true,
   "skip_h1_title": false,
   "title_cell": "Table of Contents",
   "title_sidebar": "Contents",
   "toc_cell": false,
   "toc_position": {},
   "toc_section_display": true,
   "toc_window_display": false
  },
  "varInspector": {
   "cols": {
    "lenName": 16,
    "lenType": 16,
    "lenVar": 40
   },
   "kernels_config": {
    "python": {
     "delete_cmd_postfix": "",
     "delete_cmd_prefix": "del ",
     "library": "var_list.py",
     "varRefreshCmd": "print(var_dic_list())"
    },
    "r": {
     "delete_cmd_postfix": ") ",
     "delete_cmd_prefix": "rm(",
     "library": "var_list.r",
     "varRefreshCmd": "cat(var_dic_list()) "
    }
   },
   "types_to_exclude": [
    "module",
    "function",
    "builtin_function_or_method",
    "instance",
    "_Feature"
   ],
   "window_display": false
  }
 },
 "nbformat": 4,
 "nbformat_minor": 4
}
