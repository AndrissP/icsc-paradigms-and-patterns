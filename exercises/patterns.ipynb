{
 "cells": [
  {
   "cell_type": "markdown",
   "metadata": {},
   "source": [
    "# Software Design Patterns"
   ]
  },
  {
   "cell_type": "code",
   "execution_count": null,
   "metadata": {
    "ExecuteTime": {
     "end_time": "2020-09-30T09:54:35.935177Z",
     "start_time": "2020-09-30T09:54:35.648549Z"
    }
   },
   "outputs": [],
   "source": [
    "import matplotlib.pyplot as plt\n",
    "from abc import ABC, abstractmethod\n",
    "import numpy as np"
   ]
  },
  {
   "cell_type": "markdown",
   "metadata": {},
   "source": [
    "If the last line didn't work, please install matplotlib, e.g. by\n",
    "typing ``pip3 install --user install matplotlib``."
   ]
  },
  {
   "cell_type": "markdown",
   "metadata": {
    "heading_collapsed": true
   },
   "source": [
    "# Creational patterns"
   ]
  },
  {
   "cell_type": "markdown",
   "metadata": {
    "heading_collapsed": true,
    "hidden": true
   },
   "source": [
    "## Factory method pattern"
   ]
  },
  {
   "cell_type": "code",
   "execution_count": null,
   "metadata": {
    "ExecuteTime": {
     "end_time": "2020-09-30T09:47:41.656789Z",
     "start_time": "2020-09-30T09:47:41.628499Z"
    },
    "hidden": true
   },
   "outputs": [],
   "source": [
    "class Histogram(object):\n",
    "    def __init__(self, bin_contents=None, bin_edges=None, data=None, nbins=10):\n",
    "        \"\"\" Initialize histogram either by directly giving bin contents and edges\n",
    "        or from data.\n",
    "        \n",
    "        Args:\n",
    "            bin_contents: List of bin contents\n",
    "            bin_edges: List of bin edges (n+1 values for n bins)\n",
    "            data: List of data points that will be automatically binned\n",
    "            nbins: Number of bins to bin data in, if bin_edges is not given\n",
    "        \"\"\"\n",
    "        if bin_contents is not None and bin_edges is not None:\n",
    "            self.bin_contents = bin_contents\n",
    "            self.bin_edges = bin_edges\n",
    "        elif data is not None:\n",
    "            if bin_edges is not None:\n",
    "                self.bin_contents, self.bin_edges = np.histogram(data, bins=bin_edges)\n",
    "            else:\n",
    "                self.bin_contents, self.bin_edges = np.histogram(data, bins=nbins)\n",
    "\n",
    "h1 = Histogram(bin_contents=[1, 2, 3], bin_edges=[1, 2, 3, 4])\n",
    "h2 = Histogram(data=[1, 5, 7, 8, 4, 2, 2, 3, 4], nbins=5)"
   ]
  },
  {
   "cell_type": "markdown",
   "metadata": {
    "ExecuteTime": {
     "end_time": "2020-09-30T09:40:34.975903Z",
     "start_time": "2020-09-30T09:40:34.960933Z"
    },
    "hidden": true
   },
   "source": [
    "**Exercise**: Simplify the constructor using the factory method pattern. \n",
    "How can you recreate the two objects from before?"
   ]
  },
  {
   "cell_type": "markdown",
   "metadata": {
    "ExecuteTime": {
     "end_time": "2020-09-30T09:44:00.108067Z",
     "start_time": "2020-09-30T09:44:00.090870Z"
    },
    "hidden": true
   },
   "source": [
    "<html>\n",
    "<details>\n",
    "<summary style=\"color:orange; font-weight: bold;\"> Click me for a hint </summary>\n",
    "    Change the <code>__init__</code> constructor so that it only takes <code>bin_contents</code> and <code>bin_edges</code>.\n",
    "Create a new classmethod <code>from_data</code> that handles the construction from data.    \n",
    "</details>\n",
    "</html>"
   ]
  },
  {
   "cell_type": "markdown",
   "metadata": {
    "ExecuteTime": {
     "end_time": "2020-09-30T09:46:53.869360Z",
     "start_time": "2020-09-30T09:46:53.855654Z"
    },
    "hidden": true
   },
   "source": [
    "<html>\n",
    "<details>\n",
    "<summary style=\"color:red; font-weight: bold;\"> Click me for the solution </summary>\n",
    "Define the classmethod as follows.\n",
    "\n",
    "```python\n",
    "class Histogram(object):\n",
    "    def __init__(self, bin_contents, bin_edges):\n",
    "        self.bin_contents = bin_contents\n",
    "        self.bin_edges = bin_edges\n",
    "    \n",
    "    @classmethod\n",
    "    def from_data(cls, data, bin_edges=None, nbins=10):\n",
    "        if bin_edges is not None:\n",
    "            bin_contents, bin_edges = np.histogram(data, bins=bin_edges)\n",
    "        else:\n",
    "            bin_contents, bin_edges = np.histogram(data, bins=nbins)\n",
    "        return cls(bin_contents=bin_contents, bin_edges=bin_edges)\n",
    "\n",
    "h1 = Histogram(bin_contents=[1, 2, 3], bin_edges=[1, 2, 3, 4])\n",
    "h2 = Histogram.from_data(data=[1, 5, 7, 8, 4, 2, 2, 3, 4], nbins=5)\n",
    "```\n",
    "</details>\n",
    "</html>"
   ]
  },
  {
   "cell_type": "markdown",
   "metadata": {
    "heading_collapsed": true,
    "hidden": true
   },
   "source": [
    "## Builder pattern"
   ]
  },
  {
   "cell_type": "markdown",
   "metadata": {
    "hidden": true
   },
   "source": [
    "Let's look at the following example of a class for plotting (you can run the next two cells to get an idea about what it does)."
   ]
  },
  {
   "cell_type": "code",
   "execution_count": null,
   "metadata": {
    "ExecuteTime": {
     "end_time": "2020-09-27T16:23:31.806437Z",
     "start_time": "2020-09-27T16:23:31.755189Z"
    },
    "hidden": true
   },
   "outputs": [],
   "source": [
    "class ComplexPlot(object):\n",
    "    def __init__(self, xvalues, yvalues, colors, labels, hlines, vlines, hlinecolors, vlinecolors):\n",
    "        self.xvalues = xvalues\n",
    "        self.yvalues = yvalues\n",
    "        self.colors = colors\n",
    "        self.labels = labels\n",
    "        self.hlines = hlines\n",
    "        self.vlines = vlines\n",
    "        self.hlinecolors = hlinecolors\n",
    "        self.vlinecolors = vlinecolors\n",
    "    \n",
    "    def plot(self):\n",
    "        fig, ax = plt.subplots()\n",
    "        for i in range(len(self.xvalues)):\n",
    "            ax.plot(self.xvalues[i], self.yvalues[i], color=self.colors[i], label=self.labels[i])\n",
    "        for i in range(len(self.hlines)):\n",
    "            ax.axhline(self.hlines[i], color=self.hlinecolors[i])\n",
    "        for i in range(len(self.vlines)):\n",
    "            ax.axvline(self.vlines[i], color=self.vlinecolors[i])\n",
    "        ax.legend()\n",
    "        return ax"
   ]
  },
  {
   "cell_type": "code",
   "execution_count": null,
   "metadata": {
    "ExecuteTime": {
     "end_time": "2020-09-27T16:24:04.925552Z",
     "start_time": "2020-09-27T16:24:04.656293Z"
    },
    "hidden": true
   },
   "outputs": [],
   "source": [
    "c = ComplexPlot(\n",
    "    xvalues=[[1, 2, 3], [1, 2, 3]],\n",
    "    yvalues=[[1, 2, 3], [4, 5, 6]],\n",
    "    colors=[\"black\", \"red\"],\n",
    "    labels=[\"label 1\", \"label 2\"],\n",
    "    hlines=[1],\n",
    "    vlines=[2],\n",
    "    hlinecolors=[\"yellow\"],\n",
    "    vlinecolors=[\"gray\"]\n",
    ")\n",
    "c.plot()"
   ]
  },
  {
   "cell_type": "markdown",
   "metadata": {
    "ExecuteTime": {
     "end_time": "2020-09-27T16:25:45.440750Z",
     "start_time": "2020-09-27T16:25:45.428730Z"
    },
    "hidden": true
   },
   "source": [
    "**Exercise**: \n",
    "\n",
    "1. Make use of the *builder pattern* to simplify the above class and to make it more flexible. \n",
    "2. Reproduce the plot with your new class"
   ]
  },
  {
   "cell_type": "markdown",
   "metadata": {
    "ExecuteTime": {
     "end_time": "2020-09-27T16:30:21.591750Z",
     "start_time": "2020-09-27T16:30:21.530636Z"
    },
    "hidden": true
   },
   "source": [
    "<html>\n",
    "<details>\n",
    "<summary style=\"color:red; font-weight: bold;\"> Click me for the solution </summary>\n",
    " \n",
    "```python\n",
    "class ComplexPlot(object):\n",
    "    def __init__(self):\n",
    "        self.xvalues = []\n",
    "        self.yvalues = []\n",
    "        self.colors = []\n",
    "        self.labels = []\n",
    "        self.hlines = []\n",
    "        self.vlines = []\n",
    "        self.hlinecolors = []\n",
    "        self.vlinecolors = []\n",
    "    \n",
    "    def add_dataset(self, x, y, color=\"black\", label=\"\"):\n",
    "        self.xvalues.append(x)\n",
    "        self.yvalues.append(y)\n",
    "        self.colors.append(color)\n",
    "        self.labels.append(label)\n",
    "    \n",
    "    def add_hline(self, y, color=\"black\"):\n",
    "        self.hlines.append(y)\n",
    "        self.hlinecolors.append(color)\n",
    "    \n",
    "    def add_vline(self, y, color=\"black\"):\n",
    "        self.hlines.append(y)\n",
    "        self.hlinecolors.append(color)\n",
    "    \n",
    "    def plot(self):\n",
    "        fig, ax = plt.subplots()\n",
    "        for i in range(len(self.xvalues)):\n",
    "            ax.plot(self.xvalues[i], self.yvalues[i], color=self.colors[i], label=self.labels[i])\n",
    "        for i in range(len(self.hlines)):\n",
    "            ax.axhline(self.hlines[i], color=self.hlinecolors[i])\n",
    "        for i in range(len(self.vlines)):\n",
    "            ax.axvline(self.vlines[i], color=self.vlinecolors[i])\n",
    "        ax.legend()\n",
    "        return ax\n",
    "\n",
    "c = ComplexPlot()\n",
    "c.add_dataset([1, 2, 3], [1, 2, 3], label=\"label 1\")\n",
    "c.add_dataset([1, 2, 3], [4, 5, 6], color=\"red\", label=\"label 2\")\n",
    "c.add_hline(1, color=\"yellow\")\n",
    "c.add_vline(2, color=\"gray\")\n",
    "c.plot()\n",
    "```\n",
    "    \n",
    "</details>\n",
    "</html>"
   ]
  },
  {
   "cell_type": "markdown",
   "metadata": {
    "heading_collapsed": true
   },
   "source": [
    "# Structural patterns"
   ]
  },
  {
   "cell_type": "markdown",
   "metadata": {
    "hidden": true
   },
   "source": [
    "## Adapter"
   ]
  },
  {
   "cell_type": "markdown",
   "metadata": {
    "hidden": true
   },
   "source": [
    "You have a nice setup for dealing with lamps:"
   ]
  },
  {
   "cell_type": "code",
   "execution_count": null,
   "metadata": {
    "ExecuteTime": {
     "end_time": "2020-09-27T16:43:15.942366Z",
     "start_time": "2020-09-27T16:43:15.924067Z"
    },
    "hidden": true
   },
   "outputs": [],
   "source": [
    "class Lamp(ABC):\n",
    "    \"\"\" Interface of my lamps. \"\"\"\n",
    "    @abstractmethod\n",
    "    def toggle(self):\n",
    "        pass\n",
    "\n",
    "class MyOldLamp(Lamp):\n",
    "    \"\"\" This is one of my specific lamps. \"\"\"\n",
    "    def __init__(self):\n",
    "        self._turned_on = False\n",
    "    \n",
    "    def get_state(self):\n",
    "        # (Note for advanced python users: \n",
    "        # Accessor function because lecture didn't introduce\n",
    "        # the '@property' decorator)\n",
    "        return self._turned_on\n",
    "    \n",
    "    def toggle(self):\n",
    "        self._turned_on = not self._turned_on\n",
    "\n",
    "\n",
    "def report_and_switch_on_lamp(lamp: Lamp):\n",
    "    \"\"\" This function prints whether the lamp is lit\n",
    "    and if not, flips the switch. \"\"\"\n",
    "    if lamp.get_state():\n",
    "        print(\"Lamp is lit\")\n",
    "    else:\n",
    "        print(\"Lamp is dark\")\n",
    "    lamp.toggle()"
   ]
  },
  {
   "cell_type": "markdown",
   "metadata": {
    "hidden": true
   },
   "source": [
    "Let's try it!"
   ]
  },
  {
   "cell_type": "code",
   "execution_count": null,
   "metadata": {
    "ExecuteTime": {
     "end_time": "2020-09-27T16:42:17.948020Z",
     "start_time": "2020-09-27T16:42:17.938499Z"
    },
    "hidden": true
   },
   "outputs": [],
   "source": [
    "mol = MyOldLamp()\n",
    "\n",
    "report_and_switch_on_lamp(mol)\n",
    "report_and_switch_on_lamp(mol)"
   ]
  },
  {
   "cell_type": "markdown",
   "metadata": {
    "hidden": true
   },
   "source": [
    "Let's try with a new lamp:"
   ]
  },
  {
   "cell_type": "code",
   "execution_count": null,
   "metadata": {
    "ExecuteTime": {
     "end_time": "2020-09-27T16:43:29.099310Z",
     "start_time": "2020-09-27T16:43:29.081037Z"
    },
    "hidden": true
   },
   "outputs": [],
   "source": [
    "class MyNewLamp():\n",
    "    def __init__(self):\n",
    "        self.turned_on = False\n",
    "    \n",
    "    def get_state(self):\n",
    "        return self.turned_on\n",
    "    \n",
    "    def flip_switch(self):\n",
    "        self.turned_on = not self.turned_on"
   ]
  },
  {
   "cell_type": "code",
   "execution_count": null,
   "metadata": {
    "ExecuteTime": {
     "end_time": "2020-09-27T16:44:25.968814Z",
     "start_time": "2020-09-27T16:44:25.948987Z"
    },
    "hidden": true
   },
   "outputs": [],
   "source": [
    "mnl = MyNewLamp()\n",
    "report_and_switch_on_lamp(mnl)\n",
    "report_and_switch_on_lamp(mnl)  # Ooouch"
   ]
  },
  {
   "cell_type": "markdown",
   "metadata": {
    "hidden": true
   },
   "source": [
    "That didn't work!"
   ]
  },
  {
   "cell_type": "markdown",
   "metadata": {
    "hidden": true
   },
   "source": [
    "**Exercise**: Create an adapter class for ``MyNewLamp``"
   ]
  },
  {
   "cell_type": "markdown",
   "metadata": {
    "ExecuteTime": {
     "end_time": "2020-09-27T16:43:59.438902Z",
     "start_time": "2020-09-27T16:43:59.407197Z"
    },
    "hidden": true
   },
   "source": [
    "<html>\n",
    "<details>\n",
    "<summary style=\"color:red; font-weight: bold;\"> Click me for the solution </summary>\n",
    " \n",
    "```python\n",
    "class MyNewLampAdapter(Lamp):\n",
    "    def __init__(self, lamp: MyNewLamp):\n",
    "        self._lamp = lamp\n",
    "    \n",
    "    def get_state(self):\n",
    "        return self._lamp.get_state()\n",
    "    \n",
    "    def toggle(self):\n",
    "        self._lamp.flip_switch()\n",
    "\n",
    "mnl = MyNewLampAdapter(MyNewLamp())\n",
    "report_and_switch_on_lamp(mnl)\n",
    "report_and_switch_on_lamp(mnl)\n",
    "```\n",
    "    \n",
    "</details>\n",
    "</html>"
   ]
  },
  {
   "cell_type": "markdown",
   "metadata": {
    "heading_collapsed": true
   },
   "source": [
    "# Behavioral patterns"
   ]
  },
  {
   "cell_type": "markdown",
   "metadata": {
    "heading_collapsed": true,
    "hidden": true
   },
   "source": [
    "## Template method"
   ]
  },
  {
   "cell_type": "code",
   "execution_count": null,
   "metadata": {
    "ExecuteTime": {
     "end_time": "2020-09-30T09:52:34.068993Z",
     "start_time": "2020-09-30T09:52:34.037091Z"
    },
    "hidden": true
   },
   "outputs": [],
   "source": [
    "class MLModel():\n",
    "    def __init__(self, model=\"BDT\"):\n",
    "        self.model = model\n",
    "    \n",
    "    def prepare_features(self):\n",
    "        if self.model == \"BDT\":\n",
    "            print(\"Preparing features for BDT\")\n",
    "        elif self.model == \"RandomForest\":\n",
    "            print(\"Preparing features for RandomForest\")\n",
    "        else:\n",
    "            raise ValueError(\"Invalid model\")\n",
    "    \n",
    "    def train(self):\n",
    "        if self.model == \"BDT\":\n",
    "            print(\"Training BDT model\")\n",
    "        elif self.model == \"RandomForest\":\n",
    "            print(\"Training RandomForest\")\n",
    "        else:\n",
    "            raise ValueError(\"Invalid model\")\n",
    "    \n",
    "    def validate(self):\n",
    "        print(\"Your model is doing okayish...\")\n",
    "    \n",
    "    \n",
    "    def run_all(self):\n",
    "        self.prepare_features()\n",
    "        self.train()\n",
    "        self.validate()\n",
    "\n",
    "m1 = MLModel(model=\"BDT\")\n",
    "m1.run_all()\n",
    "\n",
    "m2 = MLModel(model=\"RandomForest\")\n",
    "m2.run_all()"
   ]
  },
  {
   "cell_type": "markdown",
   "metadata": {
    "hidden": true
   },
   "source": [
    "**Exercise**: What are the problems here? How can you solve them with the template method pattern?"
   ]
  },
  {
   "cell_type": "markdown",
   "metadata": {
    "ExecuteTime": {
     "end_time": "2020-09-30T09:56:52.670723Z",
     "start_time": "2020-09-30T09:56:52.653279Z"
    },
    "hidden": true
   },
   "source": [
    "<html>\n",
    "<details>\n",
    "<summary style=\"color:orange; font-weight: bold;\"> Click me for a hint </summary>\n",
    "    Make the <code>prepare_features</code> and <code>train</code> methods of <code>MLModel</code> abstract.\n",
    "    Create two subclasses that implement them.\n",
    "</details>\n",
    "</html>"
   ]
  },
  {
   "cell_type": "markdown",
   "metadata": {
    "ExecuteTime": {
     "end_time": "2020-09-30T09:57:19.356616Z",
     "start_time": "2020-09-30T09:57:19.346542Z"
    },
    "hidden": true
   },
   "source": [
    "<html>\n",
    "<details>\n",
    "<summary style=\"color:orange; font-weight: bold;\"> Click me for a hint </summary>\n",
    "Your code for the new class might look like this:\n",
    "\n",
    "```python\n",
    "class MLModel(ABC):\n",
    "    \n",
    "    @abstractmethod\n",
    "    def prepare_features(self):\n",
    "        pass\n",
    "    \n",
    "    @abstractmethod\n",
    "    def train(self):\n",
    "        pass\n",
    "    \n",
    "    def validate(self):\n",
    "        print(\"Your model is doing okayish...\")\n",
    "    \n",
    "    \n",
    "    def run_all(self):\n",
    "        self.prepare_features()\n",
    "        self.train()\n",
    "        self.validate()\n",
    "```\n",
    "</details>\n",
    "</html>"
   ]
  },
  {
   "cell_type": "markdown",
   "metadata": {
    "ExecuteTime": {
     "end_time": "2020-09-30T09:58:06.526593Z",
     "start_time": "2020-09-30T09:58:06.518035Z"
    },
    "hidden": true
   },
   "source": [
    "<html>\n",
    "<details>\n",
    "<summary style=\"color:orange; font-weight: bold;\"> Click me for a hint </summary>\n",
    "Your code for one of the subclasses might look like this:\n",
    "\n",
    "```python\n",
    "class BDT(MLModel):\n",
    "    def prepare_features(self):\n",
    "        print(\"Preparing features for BDT\")\n",
    "    \n",
    "    def train(self):\n",
    "        print(\"Training BDT\")\n",
    "```\n",
    "</details>\n",
    "</html>"
   ]
  },
  {
   "cell_type": "markdown",
   "metadata": {
    "ExecuteTime": {
     "end_time": "2020-09-30T09:58:25.169566Z",
     "start_time": "2020-09-30T09:58:25.148930Z"
    },
    "hidden": true
   },
   "source": [
    "<html>\n",
    "<details>\n",
    "<summary style=\"color:red; font-weight: bold;\"> Click me for the solution </summary>\n",
    "Full solution:\n",
    "\n",
    "```python\n",
    "class MLModel(ABC):\n",
    "    \n",
    "    @abstractmethod\n",
    "    def prepare_features(self):\n",
    "        pass\n",
    "    \n",
    "    @abstractmethod\n",
    "    def train(self):\n",
    "        pass\n",
    "    \n",
    "    def validate(self):\n",
    "        print(\"Your model is doing okayish...\")\n",
    "    \n",
    "    \n",
    "    def run_all(self):\n",
    "        self.prepare_features()\n",
    "        self.train()\n",
    "        self.validate()\n",
    "        \n",
    "class BDT(MLModel):\n",
    "    def prepare_features(self):\n",
    "        print(\"Preparing features for BDT\")\n",
    "    \n",
    "    def train(self):\n",
    "        print(\"Training BDT\")\n",
    "\n",
    "class RandomForest(MLModel):\n",
    "    def prepare_features(self):\n",
    "        print(\"Preparing features for RandomForest\")\n",
    "    \n",
    "    def train(self):\n",
    "        print(\"Training RandomForest\")\n",
    "\n",
    "m1 = BDT()\n",
    "m1.run_all()\n",
    "\n",
    "m2 = RandomForest()\n",
    "m2.run_all()\n",
    "```\n",
    "</details>\n",
    "</html>"
   ]
  },
  {
   "cell_type": "markdown",
   "metadata": {
    "heading_collapsed": true,
    "hidden": true
   },
   "source": [
    "## Strategy pattern"
   ]
  },
  {
   "cell_type": "markdown",
   "metadata": {
    "hidden": true
   },
   "source": [
    "**Exercise**: Look at the strategy pattern example in the slides. Build up a similar ``MyAnalysis`` class that \n",
    "takes two machine learning models ``ml_model_1`` and ``ml_model_2``. Use the example from the last exercise\n",
    "to initialize it."
   ]
  },
  {
   "cell_type": "code",
   "execution_count": null,
   "metadata": {
    "ExecuteTime": {
     "end_time": "2020-09-30T10:06:09.687586Z",
     "start_time": "2020-09-30T10:06:09.671643Z"
    },
    "hidden": true
   },
   "outputs": [],
   "source": [
    "class MyAnalysis(object):\n",
    "    def __init__(self, ml_model_1, ml_model_2):\n",
    "        # your code here\n",
    "        pass\n",
    "    \n",
    "    def run_all(self):\n",
    "        # your code here\n",
    "        # this should now call prepare_features for both\n",
    "        # models, then train them, then validate them\n",
    "        pass\n",
    "\n",
    "\n",
    "# Initialize an analysis with two BDTs\n",
    "# ma1 = your code here  \n",
    "# ma1.run_all()\n",
    "# Initialize an analysis with a BDT and a RandomForest\n",
    "# ma2 = your code here\n",
    "# ma2.run_all()"
   ]
  },
  {
   "cell_type": "markdown",
   "metadata": {
    "ExecuteTime": {
     "end_time": "2020-09-30T10:05:07.794303Z",
     "start_time": "2020-09-30T10:05:07.778699Z"
    },
    "hidden": true
   },
   "source": [
    "<html>\n",
    "<details>\n",
    "<summary style=\"color:orange; font-weight: bold;\"> Click me for a hint </summary>\n",
    "Your constructor should simply save the two models\n",
    "\n",
    "```python\n",
    "def __init__(self, ml_model_1, ml_model_2):\n",
    "    # your code here\n",
    "    self.ml_model_1 = ml_model_1\n",
    "    self.ml_model_2 = ml_model_2\n",
    "```\n",
    "</details>\n",
    "</html>"
   ]
  },
  {
   "cell_type": "markdown",
   "metadata": {
    "ExecuteTime": {
     "end_time": "2020-09-30T10:05:38.423743Z",
     "start_time": "2020-09-30T10:05:38.409761Z"
    },
    "hidden": true
   },
   "source": [
    "<html>\n",
    "<details>\n",
    "<summary style=\"color:orange; font-weight: bold;\"> Click me for a hint </summary>\n",
    "The full class should look like this:\n",
    "    \n",
    "```python\n",
    "class MyAnalysis(object):\n",
    "    def __init__(self, ml_model_1, ml_model_2):\n",
    "        # your code here\n",
    "        self.ml_model_1 = ml_model_1\n",
    "        self.ml_model_2 = ml_model_2\n",
    "    \n",
    "    def run_all(self):\n",
    "        # your code here\n",
    "        # this should now call prepare_features for both\n",
    "        # models, then train them, then validate them\n",
    "        self.ml_model_1.prepare_features()\n",
    "        self.ml_model_2.prepare_features()\n",
    "        self.ml_model_1.train()\n",
    "        self.ml_model_2.train()\n",
    "        self.ml_model_1.validate()\n",
    "        self.ml_model_2.validate()\n",
    "```\n",
    "\n",
    "Now you still need to find out how to initialize and run it.\n",
    "</details>\n",
    "</html>"
   ]
  },
  {
   "cell_type": "markdown",
   "metadata": {
    "ExecuteTime": {
     "end_time": "2020-09-30T10:06:04.193017Z",
     "start_time": "2020-09-30T10:06:04.169746Z"
    },
    "hidden": true
   },
   "source": [
    "<html>\n",
    "<details>\n",
    "<summary style=\"color:red; font-weight: bold;\"> Click me for the solution </summary>\n",
    "The full class should look like this:\n",
    "    \n",
    "```python\n",
    "class MyAnalysis(object):\n",
    "    def __init__(self, ml_model_1, ml_model_2):\n",
    "        # your code here\n",
    "        self.ml_model_1 = ml_model_1\n",
    "        self.ml_model_2 = ml_model_2\n",
    "    \n",
    "    def run_all(self):\n",
    "        # your code here\n",
    "        # this should now call prepare_features for both\n",
    "        # models, then train them, then validate them\n",
    "        self.ml_model_1.prepare_features()\n",
    "        self.ml_model_2.prepare_features()\n",
    "        self.ml_model_1.train()\n",
    "        self.ml_model_2.train()\n",
    "        self.ml_model_1.validate()\n",
    "        self.ml_model_2.validate()\n",
    "\n",
    "\n",
    "# Initialize an analysis with two BDTs\n",
    "ma1 = MyAnalysis(BDT(), BDT())  \n",
    "ma1.run_all()\n",
    "# Initialize an analysis with a BDT and a RandomForest\n",
    "ma2 = MyAnalysis(BDT(), RandomForest())\n",
    "ma2.run_all()\n",
    "```\n",
    "\n",
    "Now you still need to find out how to initialize and run it.\n",
    "</details>\n",
    "</html>"
   ]
  }
 ],
 "metadata": {
  "kernelspec": {
   "display_name": "Python 3",
   "language": "python",
   "name": "python3"
  },
  "language_info": {
   "codemirror_mode": {
    "name": "ipython",
    "version": 3
   },
   "file_extension": ".py",
   "mimetype": "text/x-python",
   "name": "python",
   "nbconvert_exporter": "python",
   "pygments_lexer": "ipython3",
   "version": "3.7.5"
  },
  "toc": {
   "base_numbering": 1,
   "nav_menu": {},
   "number_sections": true,
   "sideBar": true,
   "skip_h1_title": false,
   "title_cell": "Table of Contents",
   "title_sidebar": "Contents",
   "toc_cell": false,
   "toc_position": {},
   "toc_section_display": true,
   "toc_window_display": false
  },
  "varInspector": {
   "cols": {
    "lenName": 16,
    "lenType": 16,
    "lenVar": 40
   },
   "kernels_config": {
    "python": {
     "delete_cmd_postfix": "",
     "delete_cmd_prefix": "del ",
     "library": "var_list.py",
     "varRefreshCmd": "print(var_dic_list())"
    },
    "r": {
     "delete_cmd_postfix": ") ",
     "delete_cmd_prefix": "rm(",
     "library": "var_list.r",
     "varRefreshCmd": "cat(var_dic_list()) "
    }
   },
   "types_to_exclude": [
    "module",
    "function",
    "builtin_function_or_method",
    "instance",
    "_Feature"
   ],
   "window_display": false
  }
 },
 "nbformat": 4,
 "nbformat_minor": 4
}
